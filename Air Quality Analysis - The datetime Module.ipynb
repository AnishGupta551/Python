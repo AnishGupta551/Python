{
  "nbformat": 4,
  "nbformat_minor": 0,
  "metadata": {
    "colab": {
      "provenance": [],
      "include_colab_link": true
    },
    "kernelspec": {
      "name": "python3",
      "display_name": "Python 3"
    }
  },
  "cells": [
    {
      "cell_type": "markdown",
      "metadata": {
        "id": "view-in-github",
        "colab_type": "text"
      },
      "source": [
        "<a href=\"https://colab.research.google.com/github/AnishGupta551/Python/blob/master/Air%20Quality%20Analysis%20-%20The%20datetime%20Module.ipynb\" target=\"_parent\"><img src=\"https://colab.research.google.com/assets/colab-badge.svg\" alt=\"Open In Colab\"/></a>"
      ]
    },
    {
      "cell_type": "markdown",
      "metadata": {
        "id": "j0DY8b_g-p3s"
      },
      "source": [
        "# Lesson 39: Air Quality Analysis - The `datetime` Module"
      ]
    },
    {
      "cell_type": "markdown",
      "metadata": {
        "id": "SOzBJ9tGdovN"
      },
      "source": [
        "### Teacher-Student Activities\n",
        "\n",
        "Let's quickly learn about the features and functions of `datetime` module which is a dedicated module for working with `datetime` objects in Python. Then we will continue with the air quality analysis project."
      ]
    },
    {
      "cell_type": "markdown",
      "metadata": {
        "id": "pmA7GRKwoY-f"
      },
      "source": [
        "---"
      ]
    },
    {
      "cell_type": "markdown",
      "metadata": {
        "id": "smrd6G1QeZCl"
      },
      "source": [
        "#### Activity 1: The `datetime.now()` function\n",
        "\n",
        "The `datetime` module allows us to create date and time objects and manipulate them as we desire. Let's start with importing the `datetime` module."
      ]
    },
    {
      "cell_type": "code",
      "metadata": {
        "id": "cy1hhsRGeK5e"
      },
      "source": [
        "# S1.1: Import the 'datetime' module.\n",
        "import datetime"
      ],
      "execution_count": null,
      "outputs": []
    },
    {
      "cell_type": "markdown",
      "metadata": {
        "id": "6jwmnBlsefb8"
      },
      "source": [
        "Let's now print the current date and time using the `datetime.now()`. It returns the current time in Greenwich Mean Time (GMT) or Coordinated Universal Time (UTC) time zone.\n",
        "\n",
        "The syntax for using the `datetime.now()` function is `datetime.datetime.now()` where the first occurrence of `datetime` denotes the module name and its second occurrence denotes the object type.\n",
        "\n",
        "**Note:** The default format of the `datetime` object is `YYYY-MM-DD HH:MM:SS` where\n",
        "\n",
        "- `YYYY` denotes year,\n",
        "\n",
        "- `MM` denotes month,\n",
        "\n",
        "- `DD` denotes day,\n",
        "\n",
        "- `HH` denotes hours in 24-hours,\n",
        "\n",
        "- `MM` denotes minutes, and\n",
        "\n",
        "- `SS` denotes seconds"
      ]
    },
    {
      "cell_type": "code",
      "metadata": {
        "id": "sU2k0cZvef-E",
        "colab": {
          "base_uri": "https://localhost:8080/"
        },
        "outputId": "a9bf9554-c997-4381-d47e-22ec544c7569"
      },
      "source": [
        "# S1.2: Get the current time, print it and its data-type.\n",
        "date_time = datetime.datetime.now()\n",
        "print(date_time)\n",
        "print(type(date_time))"
      ],
      "execution_count": null,
      "outputs": [
        {
          "output_type": "stream",
          "text": [
            "2020-12-26 18:47:23.079573\n",
            "<class 'datetime.datetime'>\n"
          ],
          "name": "stdout"
        }
      ]
    },
    {
      "cell_type": "markdown",
      "metadata": {
        "id": "4S6MRS1Kejv3"
      },
      "source": [
        "The fractional value in the above time is microseconds. That's the level of precision of a `datetime` object.\n",
        "\n",
        "You can apply the `day, month, year, hour, minute` and `second` attributes to get the corresponding day, month, year, hour, minute and second values."
      ]
    },
    {
      "cell_type": "code",
      "metadata": {
        "id": "G4UMyvi2ChHG",
        "colab": {
          "base_uri": "https://localhost:8080/"
        },
        "outputId": "dcdd350a-343c-453b-88a9-305dc797c8fa"
      },
      "source": [
        "# S1.3: Get the corresponding day, month, year, hour, minute and second values. Print the values.\n",
        "print(date_time.day)\n",
        "print(date_time.month)\n",
        "print(date_time.year)\n",
        "print(date_time.hour)\n",
        "print(date_time.minute)\n",
        "print(date_time.second)"
      ],
      "execution_count": null,
      "outputs": [
        {
          "output_type": "stream",
          "text": [
            "26\n",
            "12\n",
            "2020\n",
            "18\n",
            "47\n",
            "23\n"
          ],
          "name": "stdout"
        }
      ]
    },
    {
      "cell_type": "markdown",
      "metadata": {
        "id": "BPTB8NLyoa10"
      },
      "source": [
        "---"
      ]
    },
    {
      "cell_type": "markdown",
      "metadata": {
        "id": "NoU5ZgSbmd8Q"
      },
      "source": [
        "#### Activity 2: The `timedelta` Object\n",
        "\n",
        "To get time in Indian Standard Time (IST) time zone, we have to add 5 hours and 30 minutes to the UTC time because IST is equivalent to UTC+5:30. For this, we need to use the `timedelta` object. It represents a duration, the difference between two dates or times.\n",
        "\n",
        "Inside the `timedelta` object, you may pass any one of the following parameters (or arguments).\n",
        "\n",
        "- `days`,\n",
        "\n",
        "- `seconds=0`,\n",
        "\n",
        "- `microseconds`,\n",
        "\n",
        "- `milliseconds`,\n",
        "\n",
        "- `minutes`,\n",
        "\n",
        "- `hours`, and\n",
        "\n",
        "- `weeks`\n",
        "\n",
        "The default value of each of the above parameters is zero. Let's pass `hours=5` and `minutes=30` parameters to the `timedelta` object. Then add it to the current time.\n"
      ]
    },
    {
      "cell_type": "code",
      "metadata": {
        "id": "P4Lb_KE3ekQ6",
        "colab": {
          "base_uri": "https://localhost:8080/"
        },
        "outputId": "51ed3a48-10b8-42fb-95b6-22a4879622fb"
      },
      "source": [
        "# S2.1: Get the current time in IST (or UTC+5:30) time zone. Print it and its data-type.\n",
        "date_time_ist = datetime.datetime.now()+datetime.timedelta(hours = 5, minutes = 30)\n",
        "print(date_time_ist)\n",
        "print(type(date_time_ist))"
      ],
      "execution_count": null,
      "outputs": [
        {
          "output_type": "stream",
          "text": [
            "2020-12-27 00:17:23.108244\n",
            "<class 'datetime.datetime'>\n"
          ],
          "name": "stdout"
        }
      ]
    },
    {
      "cell_type": "markdown",
      "metadata": {
        "id": "QmgAEY4-spNK"
      },
      "source": [
        "You can also convert the datetime in any time zone by simply adding or subtracting the hours and minutes values from the current time. As a practice, let's convert the current time in the UTC-7:00 zone. It's the time zone for the pacific region of the USA. The silicon valley is located in the same regions."
      ]
    },
    {
      "cell_type": "code",
      "metadata": {
        "id": "f8MbNKBb0rlP",
        "colab": {
          "base_uri": "https://localhost:8080/"
        },
        "outputId": "833fbe8d-b92a-49b3-9e84-c80492321ed8"
      },
      "source": [
        "# S2.2: Get the current time in the UTC-7 time zone.\n",
        "date_time_utc = datetime.datetime.now()-datetime.timedelta(hours = 7)\n",
        "print(date_time_utc)"
      ],
      "execution_count": null,
      "outputs": [
        {
          "output_type": "stream",
          "text": [
            "2020-12-26 11:47:23.123724\n"
          ],
          "name": "stdout"
        }
      ]
    },
    {
      "cell_type": "markdown",
      "metadata": {
        "id": "aWXeBNLgoTfs"
      },
      "source": [
        "---"
      ]
    },
    {
      "cell_type": "markdown",
      "metadata": {
        "id": "bZXxHzxqmAc2"
      },
      "source": [
        "#### Activity 3: The `datetime.strftime()` Function\n",
        "\n",
        "The current date and time values are `datetime` objects. Let's convert them into a string value using the `strftime()` function in the `Month Day, Year HH:MM:SS AM/PM` format where `HH` hours in 12-hour format.\n",
        "\n",
        "Click on the link provided below to get the format codes.\n",
        "\n",
        "[The `strftime()` & `strptime()` Format Codes](https://docs.python.org/3/library/datetime.html#strftime-and-strptime-behavior)\n",
        "\n",
        "**Note:** You may choose any other format of your liking to format a date and time value."
      ]
    },
    {
      "cell_type": "code",
      "metadata": {
        "id": "8Xld_wlHepeZ",
        "colab": {
          "base_uri": "https://localhost:8080/",
          "height": 35
        },
        "outputId": "b06a41b8-d123-4879-db0b-c037a3289e69"
      },
      "source": [
        "# S3.1 Convert the current date and time into a string. Also print the data-type of the final value.\n",
        "date_and_time = datetime.datetime.now()\n",
        "date_and_time = date_and_time.strftime(\"%B %d, %Y %I:%M:%S %p\")\n",
        "date_and_time"
      ],
      "execution_count": null,
      "outputs": [
        {
          "output_type": "execute_result",
          "data": {
            "application/vnd.google.colaboratory.intrinsic+json": {
              "type": "string"
            },
            "text/plain": [
              "'December 26, 2020 06:47:23 PM'"
            ]
          },
          "metadata": {
            "tags": []
          },
          "execution_count": 7
        }
      ]
    },
    {
      "cell_type": "markdown",
      "metadata": {
        "id": "a8MFaxscq5Br"
      },
      "source": [
        "As you can see, we have converted the date and time values into a string in the desired format."
      ]
    },
    {
      "cell_type": "markdown",
      "metadata": {
        "id": "mWwagNUOsOWQ"
      },
      "source": [
        "---"
      ]
    },
    {
      "cell_type": "markdown",
      "metadata": {
        "id": "TzBnQcuLrFaq"
      },
      "source": [
        "#### Activity 4: The `date()` & `time()` Functions\n",
        "\n",
        "Let's first separate the date and time values from the current `datetime` object using the `date()` and `time()` functions respectively.\n",
        "\n",
        "Also, let's convert the date and time values into string and format them in the `Month Day, Year` and `HH:MM:SS AM/PM` date and time formats respectively."
      ]
    },
    {
      "cell_type": "code",
      "metadata": {
        "id": "-vpWl0_UetJR",
        "colab": {
          "base_uri": "https://localhost:8080/"
        },
        "outputId": "0d7773b5-365e-4bf0-b24c-a360892dab34"
      },
      "source": [
        "# S4.1: Separate the date and time values from the 'datetime' object. Convert them into string. Print the final values and their data-types.\n",
        "date_and_time = datetime.datetime.now()\n",
        "date = date_and_time.date().strftime(\"%B %d, %Y\")\n",
        "time = date_and_time.time().strftime(\"%I:%M:%S %p\")\n",
        "\n",
        "print(date)\n",
        "print(type(date))\n",
        "print(time)\n",
        "print(type(time))"
      ],
      "execution_count": null,
      "outputs": [
        {
          "output_type": "stream",
          "text": [
            "December 26, 2020\n",
            "<class 'str'>\n",
            "06:47:23 PM\n",
            "<class 'str'>\n"
          ],
          "name": "stdout"
        }
      ]
    },
    {
      "cell_type": "markdown",
      "metadata": {
        "id": "6Vhb0qIWuEom"
      },
      "source": [
        "---"
      ]
    },
    {
      "cell_type": "markdown",
      "metadata": {
        "id": "D6MRwgKIev0e"
      },
      "source": [
        "#### Activity 5: The `datetime.strptime()` Function^^^\n",
        "\n",
        "We can create a `datetime` object by passing the string values to the `strptime()` function.\n",
        "\n",
        "As an example, let's create a `datetime` object for the date December 26, 2019. It was the day when the Earth observed the latest annular solar eclipse at around 0334 hours (GMT) in Saudi Arabia. Click on the link provided below to read about it more.\n",
        "\n",
        "[Annular Solar Eclipse on December 26, 2019](https://www.space.com/ring-of-fire-solar-eclipse-2019-photos-videos.html)\n",
        "\n",
        "The `strptime()` function requires two parameters:  \n",
        "\n",
        "- The `datetime` object as a string\n",
        "\n",
        "- The combination of format codes for the passed `datetime` object. E.g., if the datetime object is `May 04, 2020 06:14:48 PM`, then the required combination format codes is `'%B %d, %Y %I:%M:%S %p'`"
      ]
    },
    {
      "cell_type": "code",
      "metadata": {
        "id": "R8WBV8g9eyhe",
        "colab": {
          "base_uri": "https://localhost:8080/"
        },
        "outputId": "60d3caa9-2606-4364-9f89-1c09ea068574"
      },
      "source": [
        "# S5.1: Create a datetime object by passing the string values to the 'strptime()' function. Also, print the data-type of the object.\n",
        "solar_eclipse = datetime.datetime.strptime(\"December 26, 2019 03:34:00 AM\", '%B %d, %Y %I:%M:%S %p')\n",
        "print(solar_eclipse)\n",
        "print(type(solar_eclipse))"
      ],
      "execution_count": null,
      "outputs": [
        {
          "output_type": "stream",
          "text": [
            "2019-12-26 03:34:00\n",
            "<class 'datetime.datetime'>\n"
          ],
          "name": "stdout"
        }
      ]
    },
    {
      "cell_type": "markdown",
      "metadata": {
        "id": "kwRJ4y83Iyeq"
      },
      "source": [
        "**Fun Fact:** An eclipse repeats itself in approximately 6,585.3 days.\n",
        "\n",
        "So, we can determine the date and time for the next occurrence of the annular solar eclipse that was observed on 26 December 2019."
      ]
    },
    {
      "cell_type": "code",
      "metadata": {
        "id": "mpqm8sa7HFwh",
        "colab": {
          "base_uri": "https://localhost:8080/"
        },
        "outputId": "7c939f75-fcdb-462f-ba23-597ae4deddd7"
      },
      "source": [
        "# S5.2: Determine the date and time for the next occurrence of the annular solar eclipse that was observed on 26 December 2019.\n",
        "next_solar_eclipse = solar_eclipse+datetime.timedelta(days = 6585.3)\n",
        "print(next_solar_eclipse)"
      ],
      "execution_count": null,
      "outputs": [
        {
          "output_type": "stream",
          "text": [
            "2038-01-05 10:46:00\n"
          ],
          "name": "stdout"
        }
      ]
    },
    {
      "cell_type": "markdown",
      "metadata": {
        "id": "8OsxsPr5yWPk"
      },
      "source": [
        "So, the last annular solar eclipse will repeat again on 5 January 2038 at about 10:47 AM. You can verify it by opening the document provided below and jumping to page number A-480.\n",
        "\n",
        "[List of Solar Eclipses](https://eclipse.gsfc.nasa.gov/5MCSE/5MCSE-Maps-10.pdf)\n",
        "\n",
        "Here is a snapshot from the document.\n",
        "\n",
        "<img src='https://student-datasets-bucket.s3.ap-south-1.amazonaws.com/images/next_annular_solar_eclipse2038.png' width=800>"
      ]
    },
    {
      "cell_type": "markdown",
      "metadata": {
        "id": "q2BJBdeR0tWV"
      },
      "source": [
        "---"
      ]
    },
    {
      "cell_type": "markdown",
      "metadata": {
        "id": "-ld_gHsVwn-F"
      },
      "source": [
        "#### Activity 6: Only `dates` & `times`^^"
      ]
    },
    {
      "cell_type": "markdown",
      "metadata": {
        "id": "xsKQ8ZA13ICF"
      },
      "source": [
        "We can create separate `datetime.date` and `datetime.time` objects by passing values to the `date()` and `time()` functions."
      ]
    },
    {
      "cell_type": "code",
      "metadata": {
        "id": "Cv4qW53bJ9Vy",
        "colab": {
          "base_uri": "https://localhost:8080/"
        },
        "outputId": "38b0760e-c34c-47cf-cbf2-95f73fd4690e"
      },
      "source": [
        "# S6.1 Create only a 'datetime.date' object for your birthday. Print it and its data-type.\n",
        "bday = datetime.date(2007, 11, 26)\n",
        "print(bday)\n",
        "print(type(bday))"
      ],
      "execution_count": null,
      "outputs": [
        {
          "output_type": "stream",
          "text": [
            "2007-11-26\n",
            "<class 'datetime.date'>\n"
          ],
          "name": "stdout"
        }
      ]
    },
    {
      "cell_type": "code",
      "metadata": {
        "id": "dOck1OebKK_J",
        "colab": {
          "base_uri": "https://localhost:8080/"
        },
        "outputId": "992a5175-dc47-41f8-e21f-a31f39d3b64d"
      },
      "source": [
        "# S6.2 Create only a 'datetime.time' object for any random time. Print it and its data-type.\n",
        "time = datetime.time(hour=10, minute=40, second=57)\n",
        "print(time)\n",
        "print(type(time))"
      ],
      "execution_count": null,
      "outputs": [
        {
          "output_type": "stream",
          "text": [
            "10:40:57\n",
            "<class 'datetime.time'>\n"
          ],
          "name": "stdout"
        }
      ]
    },
    {
      "cell_type": "markdown",
      "metadata": {
        "id": "uFNSA3NGfKYL"
      },
      "source": [
        "---"
      ]
    },
    {
      "cell_type": "markdown",
      "metadata": {
        "id": "RbKE24jFAYgj"
      },
      "source": [
        "#### Activity 7: Continuing Air Quality Analysis\n",
        "\n",
        "Let's continue with the air quality analysis. We need to load the dataset, remove the `Unnamed: 15` & `Unnamed: 16` columns and drop the null values.\n",
        "\n",
        "Also, in the previous class, we created a new Pandas series containing the concatenated date and time values."
      ]
    },
    {
      "cell_type": "code",
      "metadata": {
        "id": "xczoNMbpBb8l",
        "colab": {
          "base_uri": "https://localhost:8080/"
        },
        "outputId": "37a7188e-6044-441d-d781-62104c593934"
      },
      "source": [
        "# S7.1: Run the code cell.\n",
        "import numpy as np\n",
        "import pandas as pd\n",
        "import matplotlib.pyplot as plt\n",
        "import seaborn as sns\n",
        "\n",
        "# Loading the dataset\n",
        "csv_file = 'https://student-datasets-bucket.s3.ap-south-1.amazonaws.com/whitehat-ds-datasets/air-quality/AirQualityUCI.csv'\n",
        "df = pd.read_csv(csv_file, sep=';')\n",
        "\n",
        "# Dropping the 'Unnamed: 15' & 'Unnamed: 16' columns\n",
        "df = df.drop(columns=['Unnamed: 15', 'Unnamed: 16'], axis=1)\n",
        "\n",
        "# Dropping the null values\n",
        "df = df.dropna()\n",
        "\n",
        "# Creating a Pandas series containing 'datetime' objects.\n",
        "dt_series = df['Date'] + ' ' + pd.Series(data=[str(item).replace(\".\", \":\") for item in df['Time']], index=df.index)\n",
        "dt_series = pd.to_datetime(dt_series)\n",
        "dt_series"
      ],
      "execution_count": null,
      "outputs": [
        {
          "output_type": "execute_result",
          "data": {
            "text/plain": [
              "0      2004-10-03 18:00:00\n",
              "1      2004-10-03 19:00:00\n",
              "2      2004-10-03 20:00:00\n",
              "3      2004-10-03 21:00:00\n",
              "4      2004-10-03 22:00:00\n",
              "               ...        \n",
              "9352   2005-04-04 10:00:00\n",
              "9353   2005-04-04 11:00:00\n",
              "9354   2005-04-04 12:00:00\n",
              "9355   2005-04-04 13:00:00\n",
              "9356   2005-04-04 14:00:00\n",
              "Length: 9357, dtype: datetime64[ns]"
            ]
          },
          "metadata": {
            "tags": []
          },
          "execution_count": 13
        }
      ]
    },
    {
      "cell_type": "markdown",
      "metadata": {
        "id": "6sCS3wC6FfTh"
      },
      "source": [
        "Let's remove the `Date` & `Time` columns from the DataFrame because we don't need them and insert the `dt_series` in it because it contains the `datetime` objects."
      ]
    },
    {
      "cell_type": "code",
      "metadata": {
        "id": "0GALRL4-F6PX",
        "colab": {
          "base_uri": "https://localhost:8080/",
          "height": 204
        },
        "outputId": "8ebd0658-0241-40e3-9fed-9eacd8b1e356"
      },
      "source": [
        "# S7.2 Display the first five rows of the DataFrame before removing the 'Date' and 'Time' columns.\n",
        "df.head()"
      ],
      "execution_count": null,
      "outputs": [
        {
          "output_type": "execute_result",
          "data": {
            "text/html": [
              "<div>\n",
              "<style scoped>\n",
              "    .dataframe tbody tr th:only-of-type {\n",
              "        vertical-align: middle;\n",
              "    }\n",
              "\n",
              "    .dataframe tbody tr th {\n",
              "        vertical-align: top;\n",
              "    }\n",
              "\n",
              "    .dataframe thead th {\n",
              "        text-align: right;\n",
              "    }\n",
              "</style>\n",
              "<table border=\"1\" class=\"dataframe\">\n",
              "  <thead>\n",
              "    <tr style=\"text-align: right;\">\n",
              "      <th></th>\n",
              "      <th>Date</th>\n",
              "      <th>Time</th>\n",
              "      <th>CO(GT)</th>\n",
              "      <th>PT08.S1(CO)</th>\n",
              "      <th>NMHC(GT)</th>\n",
              "      <th>C6H6(GT)</th>\n",
              "      <th>PT08.S2(NMHC)</th>\n",
              "      <th>NOx(GT)</th>\n",
              "      <th>PT08.S3(NOx)</th>\n",
              "      <th>NO2(GT)</th>\n",
              "      <th>PT08.S4(NO2)</th>\n",
              "      <th>PT08.S5(O3)</th>\n",
              "      <th>T</th>\n",
              "      <th>RH</th>\n",
              "      <th>AH</th>\n",
              "    </tr>\n",
              "  </thead>\n",
              "  <tbody>\n",
              "    <tr>\n",
              "      <th>0</th>\n",
              "      <td>10/03/2004</td>\n",
              "      <td>18.00.00</td>\n",
              "      <td>2,6</td>\n",
              "      <td>1360.0</td>\n",
              "      <td>150.0</td>\n",
              "      <td>11,9</td>\n",
              "      <td>1046.0</td>\n",
              "      <td>166.0</td>\n",
              "      <td>1056.0</td>\n",
              "      <td>113.0</td>\n",
              "      <td>1692.0</td>\n",
              "      <td>1268.0</td>\n",
              "      <td>13,6</td>\n",
              "      <td>48,9</td>\n",
              "      <td>0,7578</td>\n",
              "    </tr>\n",
              "    <tr>\n",
              "      <th>1</th>\n",
              "      <td>10/03/2004</td>\n",
              "      <td>19.00.00</td>\n",
              "      <td>2</td>\n",
              "      <td>1292.0</td>\n",
              "      <td>112.0</td>\n",
              "      <td>9,4</td>\n",
              "      <td>955.0</td>\n",
              "      <td>103.0</td>\n",
              "      <td>1174.0</td>\n",
              "      <td>92.0</td>\n",
              "      <td>1559.0</td>\n",
              "      <td>972.0</td>\n",
              "      <td>13,3</td>\n",
              "      <td>47,7</td>\n",
              "      <td>0,7255</td>\n",
              "    </tr>\n",
              "    <tr>\n",
              "      <th>2</th>\n",
              "      <td>10/03/2004</td>\n",
              "      <td>20.00.00</td>\n",
              "      <td>2,2</td>\n",
              "      <td>1402.0</td>\n",
              "      <td>88.0</td>\n",
              "      <td>9,0</td>\n",
              "      <td>939.0</td>\n",
              "      <td>131.0</td>\n",
              "      <td>1140.0</td>\n",
              "      <td>114.0</td>\n",
              "      <td>1555.0</td>\n",
              "      <td>1074.0</td>\n",
              "      <td>11,9</td>\n",
              "      <td>54,0</td>\n",
              "      <td>0,7502</td>\n",
              "    </tr>\n",
              "    <tr>\n",
              "      <th>3</th>\n",
              "      <td>10/03/2004</td>\n",
              "      <td>21.00.00</td>\n",
              "      <td>2,2</td>\n",
              "      <td>1376.0</td>\n",
              "      <td>80.0</td>\n",
              "      <td>9,2</td>\n",
              "      <td>948.0</td>\n",
              "      <td>172.0</td>\n",
              "      <td>1092.0</td>\n",
              "      <td>122.0</td>\n",
              "      <td>1584.0</td>\n",
              "      <td>1203.0</td>\n",
              "      <td>11,0</td>\n",
              "      <td>60,0</td>\n",
              "      <td>0,7867</td>\n",
              "    </tr>\n",
              "    <tr>\n",
              "      <th>4</th>\n",
              "      <td>10/03/2004</td>\n",
              "      <td>22.00.00</td>\n",
              "      <td>1,6</td>\n",
              "      <td>1272.0</td>\n",
              "      <td>51.0</td>\n",
              "      <td>6,5</td>\n",
              "      <td>836.0</td>\n",
              "      <td>131.0</td>\n",
              "      <td>1205.0</td>\n",
              "      <td>116.0</td>\n",
              "      <td>1490.0</td>\n",
              "      <td>1110.0</td>\n",
              "      <td>11,2</td>\n",
              "      <td>59,6</td>\n",
              "      <td>0,7888</td>\n",
              "    </tr>\n",
              "  </tbody>\n",
              "</table>\n",
              "</div>"
            ],
            "text/plain": [
              "         Date      Time CO(GT)  PT08.S1(CO)  ...  PT08.S5(O3)     T    RH      AH\n",
              "0  10/03/2004  18.00.00    2,6       1360.0  ...       1268.0  13,6  48,9  0,7578\n",
              "1  10/03/2004  19.00.00      2       1292.0  ...        972.0  13,3  47,7  0,7255\n",
              "2  10/03/2004  20.00.00    2,2       1402.0  ...       1074.0  11,9  54,0  0,7502\n",
              "3  10/03/2004  21.00.00    2,2       1376.0  ...       1203.0  11,0  60,0  0,7867\n",
              "4  10/03/2004  22.00.00    1,6       1272.0  ...       1110.0  11,2  59,6  0,7888\n",
              "\n",
              "[5 rows x 15 columns]"
            ]
          },
          "metadata": {
            "tags": []
          },
          "execution_count": 14
        }
      ]
    },
    {
      "cell_type": "markdown",
      "metadata": {
        "id": "y0UlL7MdGWW4"
      },
      "source": [
        "Let's add the `dt_series` Pandas series to the DataFrame at `index = 0`. Also, let's label it as a `DateTime` column."
      ]
    },
    {
      "cell_type": "code",
      "metadata": {
        "id": "fet1jQCAA1_P"
      },
      "source": [
        "# S7.3: Remove the Date & Time columns from the DataFrame and insert the 'dt_series' in it.\n",
        "df = df.drop(columns = ['Date', 'Time'], axis=1)\n",
        "df.insert(loc=0, column = \"DateTime\", value = dt_series)"
      ],
      "execution_count": null,
      "outputs": []
    },
    {
      "cell_type": "code",
      "metadata": {
        "id": "XQiiv3yEA4fH",
        "colab": {
          "base_uri": "https://localhost:8080/",
          "height": 204
        },
        "outputId": "ae7f14d2-7e60-4f5b-d01b-e9b1b09c2b23"
      },
      "source": [
        "# S7.4: Display the first five rows of the DataFrame after removing the 'Date' 7 'Time' columns and adding the 'DateTime' column.\n",
        "df.head()"
      ],
      "execution_count": null,
      "outputs": [
        {
          "output_type": "execute_result",
          "data": {
            "text/html": [
              "<div>\n",
              "<style scoped>\n",
              "    .dataframe tbody tr th:only-of-type {\n",
              "        vertical-align: middle;\n",
              "    }\n",
              "\n",
              "    .dataframe tbody tr th {\n",
              "        vertical-align: top;\n",
              "    }\n",
              "\n",
              "    .dataframe thead th {\n",
              "        text-align: right;\n",
              "    }\n",
              "</style>\n",
              "<table border=\"1\" class=\"dataframe\">\n",
              "  <thead>\n",
              "    <tr style=\"text-align: right;\">\n",
              "      <th></th>\n",
              "      <th>DateTime</th>\n",
              "      <th>CO(GT)</th>\n",
              "      <th>PT08.S1(CO)</th>\n",
              "      <th>NMHC(GT)</th>\n",
              "      <th>C6H6(GT)</th>\n",
              "      <th>PT08.S2(NMHC)</th>\n",
              "      <th>NOx(GT)</th>\n",
              "      <th>PT08.S3(NOx)</th>\n",
              "      <th>NO2(GT)</th>\n",
              "      <th>PT08.S4(NO2)</th>\n",
              "      <th>PT08.S5(O3)</th>\n",
              "      <th>T</th>\n",
              "      <th>RH</th>\n",
              "      <th>AH</th>\n",
              "    </tr>\n",
              "  </thead>\n",
              "  <tbody>\n",
              "    <tr>\n",
              "      <th>0</th>\n",
              "      <td>2004-10-03 18:00:00</td>\n",
              "      <td>2,6</td>\n",
              "      <td>1360.0</td>\n",
              "      <td>150.0</td>\n",
              "      <td>11,9</td>\n",
              "      <td>1046.0</td>\n",
              "      <td>166.0</td>\n",
              "      <td>1056.0</td>\n",
              "      <td>113.0</td>\n",
              "      <td>1692.0</td>\n",
              "      <td>1268.0</td>\n",
              "      <td>13,6</td>\n",
              "      <td>48,9</td>\n",
              "      <td>0,7578</td>\n",
              "    </tr>\n",
              "    <tr>\n",
              "      <th>1</th>\n",
              "      <td>2004-10-03 19:00:00</td>\n",
              "      <td>2</td>\n",
              "      <td>1292.0</td>\n",
              "      <td>112.0</td>\n",
              "      <td>9,4</td>\n",
              "      <td>955.0</td>\n",
              "      <td>103.0</td>\n",
              "      <td>1174.0</td>\n",
              "      <td>92.0</td>\n",
              "      <td>1559.0</td>\n",
              "      <td>972.0</td>\n",
              "      <td>13,3</td>\n",
              "      <td>47,7</td>\n",
              "      <td>0,7255</td>\n",
              "    </tr>\n",
              "    <tr>\n",
              "      <th>2</th>\n",
              "      <td>2004-10-03 20:00:00</td>\n",
              "      <td>2,2</td>\n",
              "      <td>1402.0</td>\n",
              "      <td>88.0</td>\n",
              "      <td>9,0</td>\n",
              "      <td>939.0</td>\n",
              "      <td>131.0</td>\n",
              "      <td>1140.0</td>\n",
              "      <td>114.0</td>\n",
              "      <td>1555.0</td>\n",
              "      <td>1074.0</td>\n",
              "      <td>11,9</td>\n",
              "      <td>54,0</td>\n",
              "      <td>0,7502</td>\n",
              "    </tr>\n",
              "    <tr>\n",
              "      <th>3</th>\n",
              "      <td>2004-10-03 21:00:00</td>\n",
              "      <td>2,2</td>\n",
              "      <td>1376.0</td>\n",
              "      <td>80.0</td>\n",
              "      <td>9,2</td>\n",
              "      <td>948.0</td>\n",
              "      <td>172.0</td>\n",
              "      <td>1092.0</td>\n",
              "      <td>122.0</td>\n",
              "      <td>1584.0</td>\n",
              "      <td>1203.0</td>\n",
              "      <td>11,0</td>\n",
              "      <td>60,0</td>\n",
              "      <td>0,7867</td>\n",
              "    </tr>\n",
              "    <tr>\n",
              "      <th>4</th>\n",
              "      <td>2004-10-03 22:00:00</td>\n",
              "      <td>1,6</td>\n",
              "      <td>1272.0</td>\n",
              "      <td>51.0</td>\n",
              "      <td>6,5</td>\n",
              "      <td>836.0</td>\n",
              "      <td>131.0</td>\n",
              "      <td>1205.0</td>\n",
              "      <td>116.0</td>\n",
              "      <td>1490.0</td>\n",
              "      <td>1110.0</td>\n",
              "      <td>11,2</td>\n",
              "      <td>59,6</td>\n",
              "      <td>0,7888</td>\n",
              "    </tr>\n",
              "  </tbody>\n",
              "</table>\n",
              "</div>"
            ],
            "text/plain": [
              "             DateTime CO(GT)  PT08.S1(CO)  ...     T    RH      AH\n",
              "0 2004-10-03 18:00:00    2,6       1360.0  ...  13,6  48,9  0,7578\n",
              "1 2004-10-03 19:00:00      2       1292.0  ...  13,3  47,7  0,7255\n",
              "2 2004-10-03 20:00:00    2,2       1402.0  ...  11,9  54,0  0,7502\n",
              "3 2004-10-03 21:00:00    2,2       1376.0  ...  11,0  60,0  0,7867\n",
              "4 2004-10-03 22:00:00    1,6       1272.0  ...  11,2  59,6  0,7888\n",
              "\n",
              "[5 rows x 14 columns]"
            ]
          },
          "metadata": {
            "tags": []
          },
          "execution_count": 28
        }
      ]
    },
    {
      "cell_type": "markdown",
      "metadata": {
        "id": "rzvvqIcLBa8K"
      },
      "source": [
        "---"
      ]
    },
    {
      "cell_type": "markdown",
      "metadata": {
        "id": "8g7P6OtxA-yS"
      },
      "source": [
        "#### Activity 8: Extract Year, Month, Day & Weekday Values^\n",
        "\n",
        "Let's add four more columns to the DataFrame. The should contain the year, month, day and day-name values for each observation on the air pollutants, temperature, relative humidity and absolute humidity.\n",
        "\n",
        "For this you can apply the following attributes/functions:\n",
        "\n",
        "- `series_name.dt.year` to get a Pandas series containing the year values as integers.\n",
        "\n",
        "- `series_name.dt.month` to get a Pandas series containing the month values as integers.\n",
        "\n",
        "- `series_name.dt.day` to get a Pandas series containing the day values as integers.\n",
        "\n",
        "- `series_name.dt.day_name()` to get a Pandas series containing the days of a week, i.e., Monday, Tuesday, Wednesday etc.\n"
      ]
    },
    {
      "cell_type": "code",
      "metadata": {
        "id": "Ipl6fbUGBBS0",
        "colab": {
          "base_uri": "https://localhost:8080/"
        },
        "outputId": "2cb21cd9-84aa-4471-d4d9-a6f01180a963"
      },
      "source": [
        "# S8.1: Get the Pandas series containing the year values as integers.\n",
        "year = dt_series.dt.year\n",
        "year"
      ],
      "execution_count": null,
      "outputs": [
        {
          "output_type": "execute_result",
          "data": {
            "text/plain": [
              "0       2004\n",
              "1       2004\n",
              "2       2004\n",
              "3       2004\n",
              "4       2004\n",
              "        ... \n",
              "9352    2005\n",
              "9353    2005\n",
              "9354    2005\n",
              "9355    2005\n",
              "9356    2005\n",
              "Length: 9357, dtype: int64"
            ]
          },
          "metadata": {
            "tags": []
          },
          "execution_count": 29
        }
      ]
    },
    {
      "cell_type": "code",
      "metadata": {
        "id": "FVRFFeeHBFPu",
        "colab": {
          "base_uri": "https://localhost:8080/"
        },
        "outputId": "70747b80-118f-4ed5-d51b-b3d532561da7"
      },
      "source": [
        "# S8.2: Get the Pandas series containing the month values as integers.\n",
        "month = dt_series.dt.month\n",
        "month"
      ],
      "execution_count": null,
      "outputs": [
        {
          "output_type": "execute_result",
          "data": {
            "text/plain": [
              "0       10\n",
              "1       10\n",
              "2       10\n",
              "3       10\n",
              "4       10\n",
              "        ..\n",
              "9352     4\n",
              "9353     4\n",
              "9354     4\n",
              "9355     4\n",
              "9356     4\n",
              "Length: 9357, dtype: int64"
            ]
          },
          "metadata": {
            "tags": []
          },
          "execution_count": 30
        }
      ]
    },
    {
      "cell_type": "code",
      "metadata": {
        "id": "hMCr-CchBI0o",
        "colab": {
          "base_uri": "https://localhost:8080/"
        },
        "outputId": "3b9b995e-a5f6-451a-ea01-0ab818203547"
      },
      "source": [
        "# S8.3: Get the Pandas series containing the day values as integers.\n",
        "day = dt_series.dt.day\n",
        "day"
      ],
      "execution_count": null,
      "outputs": [
        {
          "output_type": "execute_result",
          "data": {
            "text/plain": [
              "0       3\n",
              "1       3\n",
              "2       3\n",
              "3       3\n",
              "4       3\n",
              "       ..\n",
              "9352    4\n",
              "9353    4\n",
              "9354    4\n",
              "9355    4\n",
              "9356    4\n",
              "Length: 9357, dtype: int64"
            ]
          },
          "metadata": {
            "tags": []
          },
          "execution_count": 31
        }
      ]
    },
    {
      "cell_type": "code",
      "metadata": {
        "id": "PKHnJC1BBNlW",
        "colab": {
          "base_uri": "https://localhost:8080/"
        },
        "outputId": "98294ed9-ed0b-4f5e-d987-2aed8535b961"
      },
      "source": [
        "# S8.4: Get the Pandas series containing the days of a week, i.e., Monday, Tuesday, Wednesday etc.\n",
        "day_of_the_week = dt_series.dt.day_name()\n",
        "day_of_the_week"
      ],
      "execution_count": null,
      "outputs": [
        {
          "output_type": "execute_result",
          "data": {
            "text/plain": [
              "0       Sunday\n",
              "1       Sunday\n",
              "2       Sunday\n",
              "3       Sunday\n",
              "4       Sunday\n",
              "         ...  \n",
              "9352    Monday\n",
              "9353    Monday\n",
              "9354    Monday\n",
              "9355    Monday\n",
              "9356    Monday\n",
              "Length: 9357, dtype: object"
            ]
          },
          "metadata": {
            "tags": []
          },
          "execution_count": 32
        }
      ]
    },
    {
      "cell_type": "markdown",
      "metadata": {
        "id": "vG9HS9RUKO8p"
      },
      "source": [
        "We can add a column to a DataFrame by following the syntax given below.\n",
        "\n",
        "**Syntax:** `df_name['column_name'] = pandas_series`\n",
        "\n",
        "where `df_name` is the Pandas DataFrame in which the `pandas_series` to added as a column with the `column_name` as the desired name for the column.\n",
        "\n",
        "**Note:** The indices of the items contained in the `pandas_series` must be the same as the indices of the `df_name` DataFrame."
      ]
    },
    {
      "cell_type": "code",
      "metadata": {
        "id": "9d4hzaSqBPTM"
      },
      "source": [
        "# S8.5: Add the 'Year', 'Month', 'Day' and 'Day Name' columns to the DataFrame.\n",
        "df[\"Year\"] = year\n",
        "df[\"Day\"] = day\n",
        "df[\"Month\"] = month\n",
        "df[\"Day Name\"] = day_of_the_week"
      ],
      "execution_count": null,
      "outputs": []
    },
    {
      "cell_type": "markdown",
      "metadata": {
        "id": "FSHNH--OLGKK"
      },
      "source": [
        "Let's display the first five rows of the DataFrame after adding the new columns."
      ]
    },
    {
      "cell_type": "code",
      "metadata": {
        "id": "ryRbNUaGBREg",
        "colab": {
          "base_uri": "https://localhost:8080/",
          "height": 204
        },
        "outputId": "75410d68-8943-4ae1-93d6-e9f83a5b59e7"
      },
      "source": [
        "# S8.6: Display the first five rows of the DataFrame after adding the new columns.\n",
        "df.head()"
      ],
      "execution_count": null,
      "outputs": [
        {
          "output_type": "execute_result",
          "data": {
            "text/html": [
              "<div>\n",
              "<style scoped>\n",
              "    .dataframe tbody tr th:only-of-type {\n",
              "        vertical-align: middle;\n",
              "    }\n",
              "\n",
              "    .dataframe tbody tr th {\n",
              "        vertical-align: top;\n",
              "    }\n",
              "\n",
              "    .dataframe thead th {\n",
              "        text-align: right;\n",
              "    }\n",
              "</style>\n",
              "<table border=\"1\" class=\"dataframe\">\n",
              "  <thead>\n",
              "    <tr style=\"text-align: right;\">\n",
              "      <th></th>\n",
              "      <th>DateTime</th>\n",
              "      <th>CO(GT)</th>\n",
              "      <th>PT08.S1(CO)</th>\n",
              "      <th>NMHC(GT)</th>\n",
              "      <th>C6H6(GT)</th>\n",
              "      <th>PT08.S2(NMHC)</th>\n",
              "      <th>NOx(GT)</th>\n",
              "      <th>PT08.S3(NOx)</th>\n",
              "      <th>NO2(GT)</th>\n",
              "      <th>PT08.S4(NO2)</th>\n",
              "      <th>PT08.S5(O3)</th>\n",
              "      <th>T</th>\n",
              "      <th>RH</th>\n",
              "      <th>AH</th>\n",
              "      <th>Year</th>\n",
              "      <th>Day</th>\n",
              "      <th>Month</th>\n",
              "      <th>Day Name</th>\n",
              "    </tr>\n",
              "  </thead>\n",
              "  <tbody>\n",
              "    <tr>\n",
              "      <th>0</th>\n",
              "      <td>2004-10-03 18:00:00</td>\n",
              "      <td>2,6</td>\n",
              "      <td>1360.0</td>\n",
              "      <td>150.0</td>\n",
              "      <td>11,9</td>\n",
              "      <td>1046.0</td>\n",
              "      <td>166.0</td>\n",
              "      <td>1056.0</td>\n",
              "      <td>113.0</td>\n",
              "      <td>1692.0</td>\n",
              "      <td>1268.0</td>\n",
              "      <td>13,6</td>\n",
              "      <td>48,9</td>\n",
              "      <td>0,7578</td>\n",
              "      <td>2004</td>\n",
              "      <td>3</td>\n",
              "      <td>10</td>\n",
              "      <td>Sunday</td>\n",
              "    </tr>\n",
              "    <tr>\n",
              "      <th>1</th>\n",
              "      <td>2004-10-03 19:00:00</td>\n",
              "      <td>2</td>\n",
              "      <td>1292.0</td>\n",
              "      <td>112.0</td>\n",
              "      <td>9,4</td>\n",
              "      <td>955.0</td>\n",
              "      <td>103.0</td>\n",
              "      <td>1174.0</td>\n",
              "      <td>92.0</td>\n",
              "      <td>1559.0</td>\n",
              "      <td>972.0</td>\n",
              "      <td>13,3</td>\n",
              "      <td>47,7</td>\n",
              "      <td>0,7255</td>\n",
              "      <td>2004</td>\n",
              "      <td>3</td>\n",
              "      <td>10</td>\n",
              "      <td>Sunday</td>\n",
              "    </tr>\n",
              "    <tr>\n",
              "      <th>2</th>\n",
              "      <td>2004-10-03 20:00:00</td>\n",
              "      <td>2,2</td>\n",
              "      <td>1402.0</td>\n",
              "      <td>88.0</td>\n",
              "      <td>9,0</td>\n",
              "      <td>939.0</td>\n",
              "      <td>131.0</td>\n",
              "      <td>1140.0</td>\n",
              "      <td>114.0</td>\n",
              "      <td>1555.0</td>\n",
              "      <td>1074.0</td>\n",
              "      <td>11,9</td>\n",
              "      <td>54,0</td>\n",
              "      <td>0,7502</td>\n",
              "      <td>2004</td>\n",
              "      <td>3</td>\n",
              "      <td>10</td>\n",
              "      <td>Sunday</td>\n",
              "    </tr>\n",
              "    <tr>\n",
              "      <th>3</th>\n",
              "      <td>2004-10-03 21:00:00</td>\n",
              "      <td>2,2</td>\n",
              "      <td>1376.0</td>\n",
              "      <td>80.0</td>\n",
              "      <td>9,2</td>\n",
              "      <td>948.0</td>\n",
              "      <td>172.0</td>\n",
              "      <td>1092.0</td>\n",
              "      <td>122.0</td>\n",
              "      <td>1584.0</td>\n",
              "      <td>1203.0</td>\n",
              "      <td>11,0</td>\n",
              "      <td>60,0</td>\n",
              "      <td>0,7867</td>\n",
              "      <td>2004</td>\n",
              "      <td>3</td>\n",
              "      <td>10</td>\n",
              "      <td>Sunday</td>\n",
              "    </tr>\n",
              "    <tr>\n",
              "      <th>4</th>\n",
              "      <td>2004-10-03 22:00:00</td>\n",
              "      <td>1,6</td>\n",
              "      <td>1272.0</td>\n",
              "      <td>51.0</td>\n",
              "      <td>6,5</td>\n",
              "      <td>836.0</td>\n",
              "      <td>131.0</td>\n",
              "      <td>1205.0</td>\n",
              "      <td>116.0</td>\n",
              "      <td>1490.0</td>\n",
              "      <td>1110.0</td>\n",
              "      <td>11,2</td>\n",
              "      <td>59,6</td>\n",
              "      <td>0,7888</td>\n",
              "      <td>2004</td>\n",
              "      <td>3</td>\n",
              "      <td>10</td>\n",
              "      <td>Sunday</td>\n",
              "    </tr>\n",
              "  </tbody>\n",
              "</table>\n",
              "</div>"
            ],
            "text/plain": [
              "             DateTime CO(GT)  PT08.S1(CO)  NMHC(GT)  ...  Year  Day  Month  Day Name\n",
              "0 2004-10-03 18:00:00    2,6       1360.0     150.0  ...  2004    3     10    Sunday\n",
              "1 2004-10-03 19:00:00      2       1292.0     112.0  ...  2004    3     10    Sunday\n",
              "2 2004-10-03 20:00:00    2,2       1402.0      88.0  ...  2004    3     10    Sunday\n",
              "3 2004-10-03 21:00:00    2,2       1376.0      80.0  ...  2004    3     10    Sunday\n",
              "4 2004-10-03 22:00:00    1,6       1272.0      51.0  ...  2004    3     10    Sunday\n",
              "\n",
              "[5 rows x 18 columns]"
            ]
          },
          "metadata": {
            "tags": []
          },
          "execution_count": 34
        }
      ]
    },
    {
      "cell_type": "markdown",
      "metadata": {
        "id": "AE8D-dJYLWrx"
      },
      "source": [
        "Let's sort the DataFrame by the `DateTime` values in the ascending order by using the `sort_values()` function. Inside the function, you need to pass the `by = 'DateTime'` parameter to sort the DataFrame by the `DateTime` values.\n",
        "\n",
        "**Note:** By default, the `sort_values` function sorts a DataFrame in the ascending order. To sort it in the descending order, pass `ascending=False` as the second parameter inside the `sort_values` function."
      ]
    },
    {
      "cell_type": "code",
      "metadata": {
        "id": "kQ9MNHYQBWAg",
        "colab": {
          "base_uri": "https://localhost:8080/",
          "height": 359
        },
        "outputId": "d18d5fb6-8003-46ac-e37f-3fa3b9bcd18b"
      },
      "source": [
        "# S8.7: Sort the DataFrame by the 'DateTime' values in the ascending order. Also, display the first 10 rows of the DataFrame.\n",
        "df = df.sort_values(\"DateTime\")\n",
        "df.head(10)"
      ],
      "execution_count": null,
      "outputs": [
        {
          "output_type": "execute_result",
          "data": {
            "text/html": [
              "<div>\n",
              "<style scoped>\n",
              "    .dataframe tbody tr th:only-of-type {\n",
              "        vertical-align: middle;\n",
              "    }\n",
              "\n",
              "    .dataframe tbody tr th {\n",
              "        vertical-align: top;\n",
              "    }\n",
              "\n",
              "    .dataframe thead th {\n",
              "        text-align: right;\n",
              "    }\n",
              "</style>\n",
              "<table border=\"1\" class=\"dataframe\">\n",
              "  <thead>\n",
              "    <tr style=\"text-align: right;\">\n",
              "      <th></th>\n",
              "      <th>DateTime</th>\n",
              "      <th>CO(GT)</th>\n",
              "      <th>PT08.S1(CO)</th>\n",
              "      <th>NMHC(GT)</th>\n",
              "      <th>C6H6(GT)</th>\n",
              "      <th>PT08.S2(NMHC)</th>\n",
              "      <th>NOx(GT)</th>\n",
              "      <th>PT08.S3(NOx)</th>\n",
              "      <th>NO2(GT)</th>\n",
              "      <th>PT08.S4(NO2)</th>\n",
              "      <th>PT08.S5(O3)</th>\n",
              "      <th>T</th>\n",
              "      <th>RH</th>\n",
              "      <th>AH</th>\n",
              "      <th>Year</th>\n",
              "      <th>Day</th>\n",
              "      <th>Month</th>\n",
              "      <th>Day Name</th>\n",
              "    </tr>\n",
              "  </thead>\n",
              "  <tbody>\n",
              "    <tr>\n",
              "      <th>510</th>\n",
              "      <td>2004-01-04 00:00:00</td>\n",
              "      <td>1,6</td>\n",
              "      <td>1143.0</td>\n",
              "      <td>106.0</td>\n",
              "      <td>6,3</td>\n",
              "      <td>825.0</td>\n",
              "      <td>96.0</td>\n",
              "      <td>986.0</td>\n",
              "      <td>86.0</td>\n",
              "      <td>1477.0</td>\n",
              "      <td>978.0</td>\n",
              "      <td>12,0</td>\n",
              "      <td>61,6</td>\n",
              "      <td>0,8593</td>\n",
              "      <td>2004</td>\n",
              "      <td>4</td>\n",
              "      <td>1</td>\n",
              "      <td>Sunday</td>\n",
              "    </tr>\n",
              "    <tr>\n",
              "      <th>511</th>\n",
              "      <td>2004-01-04 01:00:00</td>\n",
              "      <td>1,2</td>\n",
              "      <td>1044.0</td>\n",
              "      <td>100.0</td>\n",
              "      <td>5,1</td>\n",
              "      <td>770.0</td>\n",
              "      <td>85.0</td>\n",
              "      <td>1031.0</td>\n",
              "      <td>70.0</td>\n",
              "      <td>1425.0</td>\n",
              "      <td>944.0</td>\n",
              "      <td>11,5</td>\n",
              "      <td>63,9</td>\n",
              "      <td>0,8652</td>\n",
              "      <td>2004</td>\n",
              "      <td>4</td>\n",
              "      <td>1</td>\n",
              "      <td>Sunday</td>\n",
              "    </tr>\n",
              "    <tr>\n",
              "      <th>512</th>\n",
              "      <td>2004-01-04 02:00:00</td>\n",
              "      <td>1,1</td>\n",
              "      <td>1034.0</td>\n",
              "      <td>71.0</td>\n",
              "      <td>4,1</td>\n",
              "      <td>716.0</td>\n",
              "      <td>50.0</td>\n",
              "      <td>1085.0</td>\n",
              "      <td>55.0</td>\n",
              "      <td>1405.0</td>\n",
              "      <td>891.0</td>\n",
              "      <td>10,7</td>\n",
              "      <td>67,2</td>\n",
              "      <td>0,8630</td>\n",
              "      <td>2004</td>\n",
              "      <td>4</td>\n",
              "      <td>1</td>\n",
              "      <td>Sunday</td>\n",
              "    </tr>\n",
              "    <tr>\n",
              "      <th>513</th>\n",
              "      <td>2004-01-04 03:00:00</td>\n",
              "      <td>0,9</td>\n",
              "      <td>956.0</td>\n",
              "      <td>72.0</td>\n",
              "      <td>4,0</td>\n",
              "      <td>713.0</td>\n",
              "      <td>-200.0</td>\n",
              "      <td>1099.0</td>\n",
              "      <td>-200.0</td>\n",
              "      <td>1422.0</td>\n",
              "      <td>849.0</td>\n",
              "      <td>9,0</td>\n",
              "      <td>73,1</td>\n",
              "      <td>0,8394</td>\n",
              "      <td>2004</td>\n",
              "      <td>4</td>\n",
              "      <td>1</td>\n",
              "      <td>Sunday</td>\n",
              "    </tr>\n",
              "    <tr>\n",
              "      <th>514</th>\n",
              "      <td>2004-01-04 04:00:00</td>\n",
              "      <td>0,7</td>\n",
              "      <td>909.0</td>\n",
              "      <td>44.0</td>\n",
              "      <td>2,4</td>\n",
              "      <td>615.0</td>\n",
              "      <td>57.0</td>\n",
              "      <td>1237.0</td>\n",
              "      <td>49.0</td>\n",
              "      <td>1322.0</td>\n",
              "      <td>790.0</td>\n",
              "      <td>10,2</td>\n",
              "      <td>66,6</td>\n",
              "      <td>0,8299</td>\n",
              "      <td>2004</td>\n",
              "      <td>4</td>\n",
              "      <td>1</td>\n",
              "      <td>Sunday</td>\n",
              "    </tr>\n",
              "    <tr>\n",
              "      <th>515</th>\n",
              "      <td>2004-01-04 05:00:00</td>\n",
              "      <td>0,9</td>\n",
              "      <td>996.0</td>\n",
              "      <td>45.0</td>\n",
              "      <td>2,9</td>\n",
              "      <td>648.0</td>\n",
              "      <td>64.0</td>\n",
              "      <td>1176.0</td>\n",
              "      <td>50.0</td>\n",
              "      <td>1340.0</td>\n",
              "      <td>852.0</td>\n",
              "      <td>11,0</td>\n",
              "      <td>63,7</td>\n",
              "      <td>0,8325</td>\n",
              "      <td>2004</td>\n",
              "      <td>4</td>\n",
              "      <td>1</td>\n",
              "      <td>Sunday</td>\n",
              "    </tr>\n",
              "    <tr>\n",
              "      <th>516</th>\n",
              "      <td>2004-01-04 06:00:00</td>\n",
              "      <td>1,7</td>\n",
              "      <td>1154.0</td>\n",
              "      <td>134.0</td>\n",
              "      <td>7,4</td>\n",
              "      <td>876.0</td>\n",
              "      <td>153.0</td>\n",
              "      <td>1002.0</td>\n",
              "      <td>67.0</td>\n",
              "      <td>1561.0</td>\n",
              "      <td>987.0</td>\n",
              "      <td>9,6</td>\n",
              "      <td>68,8</td>\n",
              "      <td>0,8243</td>\n",
              "      <td>2004</td>\n",
              "      <td>4</td>\n",
              "      <td>1</td>\n",
              "      <td>Sunday</td>\n",
              "    </tr>\n",
              "    <tr>\n",
              "      <th>517</th>\n",
              "      <td>2004-01-04 07:00:00</td>\n",
              "      <td>4,2</td>\n",
              "      <td>1510.0</td>\n",
              "      <td>505.0</td>\n",
              "      <td>19,8</td>\n",
              "      <td>1291.0</td>\n",
              "      <td>342.0</td>\n",
              "      <td>675.0</td>\n",
              "      <td>94.0</td>\n",
              "      <td>1949.0</td>\n",
              "      <td>1435.0</td>\n",
              "      <td>9,5</td>\n",
              "      <td>69,6</td>\n",
              "      <td>0,8273</td>\n",
              "      <td>2004</td>\n",
              "      <td>4</td>\n",
              "      <td>1</td>\n",
              "      <td>Sunday</td>\n",
              "    </tr>\n",
              "    <tr>\n",
              "      <th>518</th>\n",
              "      <td>2004-01-04 08:00:00</td>\n",
              "      <td>6,2</td>\n",
              "      <td>1722.0</td>\n",
              "      <td>1042.0</td>\n",
              "      <td>31,9</td>\n",
              "      <td>1595.0</td>\n",
              "      <td>378.0</td>\n",
              "      <td>539.0</td>\n",
              "      <td>119.0</td>\n",
              "      <td>2439.0</td>\n",
              "      <td>1798.0</td>\n",
              "      <td>11,9</td>\n",
              "      <td>60,9</td>\n",
              "      <td>0,8455</td>\n",
              "      <td>2004</td>\n",
              "      <td>4</td>\n",
              "      <td>1</td>\n",
              "      <td>Sunday</td>\n",
              "    </tr>\n",
              "    <tr>\n",
              "      <th>519</th>\n",
              "      <td>2004-01-04 09:00:00</td>\n",
              "      <td>4,6</td>\n",
              "      <td>1512.0</td>\n",
              "      <td>737.0</td>\n",
              "      <td>21,0</td>\n",
              "      <td>1323.0</td>\n",
              "      <td>304.0</td>\n",
              "      <td>631.0</td>\n",
              "      <td>139.0</td>\n",
              "      <td>2001.0</td>\n",
              "      <td>1677.0</td>\n",
              "      <td>16,2</td>\n",
              "      <td>48,6</td>\n",
              "      <td>0,8892</td>\n",
              "      <td>2004</td>\n",
              "      <td>4</td>\n",
              "      <td>1</td>\n",
              "      <td>Sunday</td>\n",
              "    </tr>\n",
              "  </tbody>\n",
              "</table>\n",
              "</div>"
            ],
            "text/plain": [
              "               DateTime CO(GT)  PT08.S1(CO)  ...  Day Month  Day Name\n",
              "510 2004-01-04 00:00:00    1,6       1143.0  ...    4     1    Sunday\n",
              "511 2004-01-04 01:00:00    1,2       1044.0  ...    4     1    Sunday\n",
              "512 2004-01-04 02:00:00    1,1       1034.0  ...    4     1    Sunday\n",
              "513 2004-01-04 03:00:00    0,9        956.0  ...    4     1    Sunday\n",
              "514 2004-01-04 04:00:00    0,7        909.0  ...    4     1    Sunday\n",
              "515 2004-01-04 05:00:00    0,9        996.0  ...    4     1    Sunday\n",
              "516 2004-01-04 06:00:00    1,7       1154.0  ...    4     1    Sunday\n",
              "517 2004-01-04 07:00:00    4,2       1510.0  ...    4     1    Sunday\n",
              "518 2004-01-04 08:00:00    6,2       1722.0  ...    4     1    Sunday\n",
              "519 2004-01-04 09:00:00    4,6       1512.0  ...    4     1    Sunday\n",
              "\n",
              "[10 rows x 18 columns]"
            ]
          },
          "metadata": {
            "tags": []
          },
          "execution_count": 36
        }
      ]
    },
    {
      "cell_type": "markdown",
      "metadata": {
        "id": "smxV95UFMbQ7"
      },
      "source": [
        "Let's pause here. In the next class, we will continue the same project with more data cleaning exercises because a few of the columns contain decimal values separated by a comma and all the columns also contain `-200`; a garbage value."
      ]
    },
    {
      "cell_type": "markdown",
      "metadata": {
        "id": "RmyrvdwgILU9"
      },
      "source": [
        "---"
      ]
    }
  ]
}